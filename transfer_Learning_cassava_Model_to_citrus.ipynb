{
  "nbformat": 4,
  "nbformat_minor": 0,
  "metadata": {
    "colab": {
      "name": "Transfer_Learning_Cassava_Model_to_Citrus_Green.ipynb",
      "provenance": [],
      "collapsed_sections": [],
      "toc_visible": true
    },
    "kernelspec": {
      "name": "python3",
      "display_name": "Python 3"
    },
    "accelerator": "GPU"
  },
  "cells": [
    {
      "cell_type": "markdown",
      "metadata": {
        "id": "k7RX3ygSrdlc"
      },
      "source": [
        "# Citrus Green\r\n",
        "\r\n",
        "The notebook tries to use the model trained on casssava trained dataset and retrain its head on the small citrus-green dataset.\r\n",
        "\r\n",
        "The attempt was though of because some of the symptoms of the diseases in cassava plant and citrus plants are the same.\r\n",
        "\r\n",
        "\r\n",
        "## Importing libraries"
      ]
    },
    {
      "cell_type": "code",
      "metadata": {
        "id": "ko52Gn04rSd1"
      },
      "source": [
        "import numpy as np\r\n",
        "import pandas as pd\r\n",
        "import matplotlib.pyplot as plt\r\n",
        "import seaborn as sns\r\n",
        "import warnings\r\n",
        "import random\r\n",
        "import os\r\n",
        "import cv2\r\n",
        "import sys\r\n",
        "from pylab import rcParams\r\n",
        "from PIL import Image\r\n",
        "warnings.filterwarnings('ignore')\r\n",
        "from sklearn.metrics import confusion_matrix, roc_auc_score, roc_curve\r\n",
        "import seaborn as sns\r\n",
        "import pandas as pd\r\n",
        "\r\n",
        "import tensorflow as tf\r\n",
        "from tensorflow.keras.models import Sequential\r\n",
        "from tensorflow.keras.preprocessing.image import ImageDataGenerator\r\n",
        "from tensorflow.keras import layers\r\n",
        "from tensorflow.keras import Input\r\n",
        "from tensorflow.keras.models import Model, load_model\r\n",
        "from tensorflow.keras.layers import Dense, Flatten, Dropout, Activation, Input, GlobalAveragePooling2D\r\n",
        "from tensorflow.keras.callbacks import ModelCheckpoint, ReduceLROnPlateau, EarlyStopping\r\n",
        "from tensorflow.keras.applications import InceptionV3, Xception\r\n",
        "from tensorflow.keras.mixed_precision import experimental as mixed_precision\r\n",
        "from sklearn.model_selection import StratifiedShuffleSplit"
      ],
      "execution_count": null,
      "outputs": []
    },
    {
      "cell_type": "markdown",
      "metadata": {
        "id": "sn-hveBxs6Zz"
      },
      "source": [
        "## Looking at the datset"
      ]
    },
    {
      "cell_type": "code",
      "metadata": {
        "colab": {
          "base_uri": "https://localhost:8080/"
        },
        "id": "kHiIRtpHMEIO",
        "outputId": "17f0b34f-2cd5-4d87-cb7b-9050082b794f"
      },
      "source": [
        "from google.colab import drive\r\n",
        "drive.mount('/content/drive')"
      ],
      "execution_count": null,
      "outputs": [
        {
          "output_type": "stream",
          "text": [
            "Drive already mounted at /content/drive; to attempt to forcibly remount, call drive.mount(\"/content/drive\", force_remount=True).\n"
          ],
          "name": "stdout"
        }
      ]
    },
    {
      "cell_type": "code",
      "metadata": {
        "id": "gTLm-8wvreQg"
      },
      "source": [
        "# Unzipping the data\r\n",
        "!unzip -uq \"/content/drive/My Drive/citrus_green/archive.zip\" -d \"/content/drive/My Drive/citrus_green/\""
      ],
      "execution_count": null,
      "outputs": []
    },
    {
      "cell_type": "code",
      "metadata": {
        "colab": {
          "base_uri": "https://localhost:8080/"
        },
        "id": "EuuAqzR_vJbK",
        "outputId": "6b637623-1401-4b1d-d6a8-7f6a756ef0b7"
      },
      "source": [
        "classes = os.listdir('/content/drive/My Drive/citrus_green/citrus_leaves_prepared/train/')\r\n",
        "print(f'Classes present in the dataset : {classes}')"
      ],
      "execution_count": null,
      "outputs": [
        {
          "output_type": "stream",
          "text": [
            "Classes present in the dataset : ['blackspot', 'canker', 'greening', 'healthy']\n"
          ],
          "name": "stdout"
        }
      ]
    },
    {
      "cell_type": "code",
      "metadata": {
        "id": "A5uysjC9vJWV"
      },
      "source": [
        "train_count = []\r\n",
        "val_count = []\r\n",
        "for d_class in classes:\r\n",
        "  train_count.append(len(os.listdir(f'/content/drive/My Drive/citrus_green/citrus_leaves_prepared/train/{d_class}')))\r\n",
        "  val_count.append(len(os.listdir(f'/content/drive/My Drive/citrus_green/citrus_leaves_prepared/validation/{d_class}')))"
      ],
      "execution_count": null,
      "outputs": []
    },
    {
      "cell_type": "code",
      "metadata": {
        "colab": {
          "base_uri": "https://localhost:8080/",
          "height": 368
        },
        "id": "zJULDwe2vJTR",
        "outputId": "b0d8718b-53eb-429c-f654-6ba130b3728e"
      },
      "source": [
        "plt.figure(figsize=(10,5))\r\n",
        "plt.bar(classes, train_count, alpha=0.7,label='Training Samples')\r\n",
        "plt.bar(classes, val_count, alpha=0.7,label='Validation Samples')\r\n",
        "plt.xlabel('Classes')\r\n",
        "plt.ylabel('Counts')\r\n",
        "plt.legend()\r\n",
        "plt.title('Data Spread among different classes')"
      ],
      "execution_count": null,
      "outputs": [
        {
          "output_type": "execute_result",
          "data": {
            "text/plain": [
              "Text(0.5, 1.0, 'Data Spread among different classes')"
            ]
          },
          "metadata": {
            "tags": []
          },
          "execution_count": 5
        },
        {
          "output_type": "display_data",
          "data": {
            "image/png": "[encoded data removed]",
            "text/plain": [
              "<Figure size 720x360 with 1 Axes>"
            ]
          },
          "metadata": {
            "tags": [],
            "needs_background": "light"
          }
        }
      ]
    },
    {
      "cell_type": "markdown",
      "metadata": {
        "id": "QDOnW5NPxDcY"
      },
      "source": [
        "## Preprocessing and loading generators"
      ]
    },
    {
      "cell_type": "code",
      "metadata": {
        "colab": {
          "base_uri": "https://localhost:8080/"
        },
        "id": "9q4IVi1JxDEq",
        "outputId": "3fb6f24e-8a9b-4414-ba63-e87b695ee67c"
      },
      "source": [
        "!pip install git+https://github.com/mjkvaak/ImageDataAugmentor\r\n",
        "!pip install albumentations==0.5.2"
      ],
      "execution_count": null,
      "outputs": [
        {
          "output_type": "stream",
          "text": [
            "Collecting git+https://github.com/mjkvaak/ImageDataAugmentor\n",
            "  Cloning https://github.com/mjkvaak/ImageDataAugmentor to /tmp/pip-req-build-w2p6dhf4\n",
            "  Running command git clone -q https://github.com/mjkvaak/ImageDataAugmentor /tmp/pip-req-build-w2p6dhf4\n",
            "Requirement already satisfied (use --upgrade to upgrade): ImageDataAugmentor==0.0.0 from git+https://github.com/mjkvaak/ImageDataAugmentor in /usr/local/lib/python3.6/dist-packages\n",
            "Requirement already satisfied: opencv-python>=4.2 in /usr/local/lib/python3.6/dist-packages (from ImageDataAugmentor==0.0.0) (4.5.1.48)\n",
            "Requirement already satisfied: matplotlib in /usr/local/lib/python3.6/dist-packages (from ImageDataAugmentor==0.0.0) (3.2.2)\n",
            "Requirement already satisfied: Pillow in /usr/local/lib/python3.6/dist-packages (from ImageDataAugmentor==0.0.0) (7.0.0)\n",
            "Requirement already satisfied: scipy in /usr/local/lib/python3.6/dist-packages (from ImageDataAugmentor==0.0.0) (1.4.1)\n",
            "Requirement already satisfied: pandas in /usr/local/lib/python3.6/dist-packages (from ImageDataAugmentor==0.0.0) (1.1.5)\n",
            "Requirement already satisfied: numpy>=1.13.3 in /usr/local/lib/python3.6/dist-packages (from opencv-python>=4.2->ImageDataAugmentor==0.0.0) (1.19.5)\n",
            "Requirement already satisfied: pyparsing!=2.0.4,!=2.1.2,!=2.1.6,>=2.0.1 in /usr/local/lib/python3.6/dist-packages (from matplotlib->ImageDataAugmentor==0.0.0) (2.4.7)\n",
            "Requirement already satisfied: python-dateutil>=2.1 in /usr/local/lib/python3.6/dist-packages (from matplotlib->ImageDataAugmentor==0.0.0) (2.8.1)\n",
            "Requirement already satisfied: cycler>=0.10 in /usr/local/lib/python3.6/dist-packages (from matplotlib->ImageDataAugmentor==0.0.0) (0.10.0)\n",
            "Requirement already satisfied: kiwisolver>=1.0.1 in /usr/local/lib/python3.6/dist-packages (from matplotlib->ImageDataAugmentor==0.0.0) (1.3.1)\n",
            "Requirement already satisfied: pytz>=2017.2 in /usr/local/lib/python3.6/dist-packages (from pandas->ImageDataAugmentor==0.0.0) (2018.9)\n",
            "Requirement already satisfied: six>=1.5 in /usr/local/lib/python3.6/dist-packages (from python-dateutil>=2.1->matplotlib->ImageDataAugmentor==0.0.0) (1.15.0)\n",
            "Building wheels for collected packages: ImageDataAugmentor\n",
            "  Building wheel for ImageDataAugmentor (setup.py) ... \u001b[?25l\u001b[?25hdone\n",
            "  Created wheel for ImageDataAugmentor: filename=ImageDataAugmentor-0.0.0-cp36-none-any.whl size=29531 sha256=451ffbd992d869abbf4e2507b754dffc15c74e953b37bed79d3cdbd6c13c69cb\n",
            "  Stored in directory: /tmp/pip-ephem-wheel-cache-h50gaw79/wheels/d9/10/55/6fca35a4072f87d694876d56ece64db3846cf45e1da1c381fe\n",
            "Successfully built ImageDataAugmentor\n",
            "Requirement already satisfied: albumentations==0.5.2 in /usr/local/lib/python3.6/dist-packages (0.5.2)\n",
            "Requirement already satisfied: scipy in /usr/local/lib/python3.6/dist-packages (from albumentations==0.5.2) (1.4.1)\n",
            "Requirement already satisfied: numpy>=1.11.1 in /usr/local/lib/python3.6/dist-packages (from albumentations==0.5.2) (1.19.5)\n",
            "Requirement already satisfied: opencv-python-headless>=4.1.1 in /usr/local/lib/python3.6/dist-packages (from albumentations==0.5.2) (4.5.1.48)\n",
            "Requirement already satisfied: PyYAML in /usr/local/lib/python3.6/dist-packages (from albumentations==0.5.2) (3.13)\n",
            "Requirement already satisfied: imgaug>=0.4.0 in /usr/local/lib/python3.6/dist-packages (from albumentations==0.5.2) (0.4.0)\n",
            "Requirement already satisfied: scikit-image>=0.16.1 in /usr/local/lib/python3.6/dist-packages (from albumentations==0.5.2) (0.16.2)\n",
            "Requirement already satisfied: matplotlib in /usr/local/lib/python3.6/dist-packages (from imgaug>=0.4.0->albumentations==0.5.2) (3.2.2)\n",
            "Requirement already satisfied: Pillow in /usr/local/lib/python3.6/dist-packages (from imgaug>=0.4.0->albumentations==0.5.2) (7.0.0)\n",
            "Requirement already satisfied: opencv-python in /usr/local/lib/python3.6/dist-packages (from imgaug>=0.4.0->albumentations==0.5.2) (4.5.1.48)\n",
            "Requirement already satisfied: imageio in /usr/local/lib/python3.6/dist-packages (from imgaug>=0.4.0->albumentations==0.5.2) (2.4.1)\n",
            "Requirement already satisfied: six in /usr/local/lib/python3.6/dist-packages (from imgaug>=0.4.0->albumentations==0.5.2) (1.15.0)\n",
            "Requirement already satisfied: Shapely in /usr/local/lib/python3.6/dist-packages (from imgaug>=0.4.0->albumentations==0.5.2) (1.7.1)\n",
            "Requirement already satisfied: networkx>=2.0 in /usr/local/lib/python3.6/dist-packages (from scikit-image>=0.16.1->albumentations==0.5.2) (2.5)\n",
            "Requirement already satisfied: PyWavelets>=0.4.0 in /usr/local/lib/python3.6/dist-packages (from scikit-image>=0.16.1->albumentations==0.5.2) (1.1.1)\n",
            "Requirement already satisfied: pyparsing!=2.0.4,!=2.1.2,!=2.1.6,>=2.0.1 in /usr/local/lib/python3.6/dist-packages (from matplotlib->imgaug>=0.4.0->albumentations==0.5.2) (2.4.7)\n",
            "Requirement already satisfied: cycler>=0.10 in /usr/local/lib/python3.6/dist-packages (from matplotlib->imgaug>=0.4.0->albumentations==0.5.2) (0.10.0)\n",
            "Requirement already satisfied: kiwisolver>=1.0.1 in /usr/local/lib/python3.6/dist-packages (from matplotlib->imgaug>=0.4.0->albumentations==0.5.2) (1.3.1)\n",
            "Requirement already satisfied: python-dateutil>=2.1 in /usr/local/lib/python3.6/dist-packages (from matplotlib->imgaug>=0.4.0->albumentations==0.5.2) (2.8.1)\n",
            "Requirement already satisfied: decorator>=4.3.0 in /usr/local/lib/python3.6/dist-packages (from networkx>=2.0->scikit-image>=0.16.1->albumentations==0.5.2) (4.4.2)\n"
          ],
          "name": "stdout"
        }
      ]
    },
    {
      "cell_type": "code",
      "metadata": {
        "id": "tN2FY1OxxC2X"
      },
      "source": [
        "batch_size=16\r\n",
        "image_size=300\r\n",
        "\r\n",
        "input_shape = (image_size, image_size, 3)\r\n",
        "target_size = (image_size, image_size)"
      ],
      "execution_count": null,
      "outputs": []
    },
    {
      "cell_type": "code",
      "metadata": {
        "id": "LEZcX2rixCnf"
      },
      "source": [
        "img_augmentation = tf.keras.Sequential(\r\n",
        "    [\r\n",
        "        tf.keras.layers.experimental.preprocessing.RandomCrop(image_size, image_size),\r\n",
        "        tf.keras.layers.experimental.preprocessing.RandomFlip(\"horizontal_and_vertical\"),\r\n",
        "        tf.keras.layers.experimental.preprocessing.RandomRotation(0.25),\r\n",
        "        tf.keras.layers.experimental.preprocessing.RandomZoom((-0.25, 0.25), (-0.25, 0.25)),\r\n",
        "    ])"
      ],
      "execution_count": null,
      "outputs": []
    },
    {
      "cell_type": "code",
      "metadata": {
        "id": "gtV_EClqxVRD"
      },
      "source": [
        "from ImageDataAugmentor.image_data_augmentor import *\r\n",
        "import albumentations as A\r\n",
        "\r\n",
        "train_augmentations = A.Compose([\r\n",
        "            A.RandomCrop(image_size, image_size, p=1),\r\n",
        "            A.Cutout(p=0.5),\r\n",
        "            A.Flip(p=0.5),\r\n",
        "            A.ShiftScaleRotate(p=0.5),\r\n",
        "            A.HueSaturationValue(p=0.5, hue_shift_limit=0.2, sat_shift_limit=0.2, val_shift_limit=0.2),\r\n",
        "            A.RandomBrightnessContrast(p=0.5, brightness_limit=(-0.2,0.2), contrast_limit=(-0.2, 0.2)),\r\n",
        "            A.ToFloat()\r\n",
        "            ], p=1)\r\n",
        "\r\n",
        "val_augmentations = A.Compose([\r\n",
        "                A.CenterCrop(image_size, image_size, p=1),\r\n",
        "                A.ToFloat()\r\n",
        "                ], p=1)"
      ],
      "execution_count": null,
      "outputs": []
    },
    {
      "cell_type": "code",
      "metadata": {
        "colab": {
          "base_uri": "https://localhost:8080/"
        },
        "id": "Eq3xsFtQx1bB",
        "outputId": "5be981d3-4979-4665-a71b-a459c7420ca8"
      },
      "source": [
        "train_generator = ImageDataAugmentor(augment=train_augmentations)\r\n",
        "val_generator = ImageDataAugmentor(augment=val_augmentations)\r\n",
        "\r\n",
        "train_datagen = train_generator.flow_from_directory(\r\n",
        "    directory='/content/drive/My Drive/citrus_green/citrus_leaves_prepared/train',\r\n",
        "    target_size=target_size,\r\n",
        "    batch_size=batch_size,\r\n",
        "    shuffle=True,\r\n",
        "    class_mode='categorical',\r\n",
        "    seed=2021)\r\n",
        "\r\n",
        "val_datagen = val_generator.flow_from_directory(\r\n",
        "    directory='/content/drive/My Drive/citrus_green/citrus_leaves_prepared/validation',\r\n",
        "    target_size=target_size,\r\n",
        "    batch_size=batch_size,\r\n",
        "    shuffle=False,\r\n",
        "    class_mode='categorical',\r\n",
        "    seed=2021)\r\n"
      ],
      "execution_count": null,
      "outputs": [
        {
          "output_type": "stream",
          "text": [
            "Found 475 images belonging to 4 classes.\n",
            "Found 121 images belonging to 4 classes.\n"
          ],
          "name": "stdout"
        }
      ]
    },
    {
      "cell_type": "markdown",
      "metadata": {
        "id": "jqym0jMl3stz"
      },
      "source": [
        "# Create models"
      ]
    },
    {
      "cell_type": "code",
      "metadata": {
        "id": "WRvNRCfSOQGH"
      },
      "source": [
        "def repurpose_cassava_Inception(wts):\r\n",
        "    base_model = InceptionV3(include_top=False, weights=None, input_shape=input_shape)\r\n",
        "    # Rebuild top\r\n",
        "    inputs = Input(shape=input_shape)\r\n",
        "\r\n",
        "    model = base_model(inputs)\r\n",
        "    pooling = GlobalAveragePooling2D()(model)\r\n",
        "    dropout = Dropout(0.2)(pooling)\r\n",
        "\r\n",
        "    outputs_cassava = Dense(5, activation=\"softmax\", name=\"dense\", dtype='float32')(dropout)\r\n",
        "\r\n",
        "    # Compile\r\n",
        "    inception = Model(inputs=inputs, outputs=outputs_cassava)\r\n",
        "    inception.load_weights(wts)\r\n",
        "    # pop the dense layer\r\n",
        "    inception._layers.pop()\r\n",
        "\r\n",
        "    outputs_citrus = Dense(len(classes), activation=\"softmax\", name=\"dense\", dtype='float32')(dropout)\r\n",
        "    inception_citrus = Model(inputs=inputs, outputs=outputs_citrus)\r\n",
        "\r\n",
        "    optimizer = tf.keras.optimizers.SGD(lr=0.01, momentum=0.9, nesterov=True)\r\n",
        "    loss = tf.keras.losses.CategoricalCrossentropy(label_smoothing=0.2, from_logits=True)\r\n",
        "\r\n",
        "    inception_citrus.compile(optimizer=optimizer, loss=loss, metrics=['accuracy'])\r\n",
        "    for layer in inception_citrus.layers[:-1]:\r\n",
        "      layer.trainable = False\r\n",
        "\r\n",
        "    return inception_citrus"
      ],
      "execution_count": null,
      "outputs": []
    },
    {
      "cell_type": "code",
      "metadata": {
        "id": "iXxpwSIxPa_J"
      },
      "source": [
        "def repurpose_cassava_Xception(wts):\r\n",
        "    base_model = Xception(include_top=False, weights=None, input_shape=input_shape)\r\n",
        "    # Rebuild top\r\n",
        "    inputs = Input(shape=input_shape)\r\n",
        "\r\n",
        "    model = base_model(inputs)\r\n",
        "    pooling = GlobalAveragePooling2D()(model)\r\n",
        "    dropout = Dropout(0.2, name=\"above_dense\")(pooling)\r\n",
        "\r\n",
        "    outputs_cassava = Dense(5, activation=\"softmax\", name=\"dense\", dtype='float32')(dropout)\r\n",
        "\r\n",
        "    # Load Cassava weights\r\n",
        "    xception = Model(inputs=inputs, outputs=outputs_cassava)\r\n",
        "    xception.load_weights(wts)\r\n",
        "    # pop the dense layer\r\n",
        "    xception._layers.pop()\r\n",
        "\r\n",
        "    outputs_citrus = Dense(len(classes), activation=\"softmax\", name=\"dense\", dtype='float32')(dropout)\r\n",
        "    xception_citrus = Model(inputs=inputs, outputs=outputs_citrus)\r\n",
        "\r\n",
        "    optimizer = tf.keras.optimizers.SGD(lr=0.01, momentum=0.9, nesterov=True)\r\n",
        "    loss = tf.keras.losses.CategoricalCrossentropy(label_smoothing=0.2, from_logits=True)\r\n",
        "\r\n",
        "    xception_citrus.compile(optimizer=optimizer, loss=loss, metrics=['accuracy'])\r\n",
        "    for layer in xception_citrus.layers[:-1]:\r\n",
        "      layer.trainable = False\r\n",
        "    return xception_citrus"
      ],
      "execution_count": null,
      "outputs": []
    },
    {
      "cell_type": "markdown",
      "metadata": {
        "id": "wnPAjkHz5Al-"
      },
      "source": [
        "# Training the head"
      ]
    },
    {
      "cell_type": "code",
      "metadata": {
        "id": "N4RU1I4NreG1",
        "colab": {
          "base_uri": "https://localhost:8080/"
        },
        "outputId": "a9f11574-035e-4c57-8493-0ad7de64534a"
      },
      "source": [
        "epochs=20\r\n",
        "\r\n",
        "model = repurpose_cassava_Inception(\"/content/drive/My Drive/citrus_green/models/inception 3fold.h5\")\r\n",
        "model.summary()\r\n",
        "model_name = \"inception_citrus.h5\"\r\n",
        "filepath = f\"/content/drive/My Drive/citrus_green/models/{model_name}\"\r\n",
        "callbacks = [ReduceLROnPlateau(monitor='val_loss', patience=3, verbose=1, factor=0.2,\r\n",
        "                               mode='auto', min_delta=0.0001, cooldown=0, min_lr=0),\r\n",
        "             EarlyStopping(monitor='val_loss', patience=5),\r\n",
        "             ModelCheckpoint(filepath=filepath, monitor='val_loss', save_best_only=True, mode='min')]\r\n",
        "\r\n",
        "history = model.fit_generator(generator = train_datagen, epochs=epochs, steps_per_epoch= len(train_datagen),\r\n",
        "                              validation_data=val_datagen, validation_steps=len(val_datagen), \r\n",
        "                              callbacks=callbacks)\r\n",
        "print(\"Training finished!\")"
      ],
      "execution_count": null,
      "outputs": [
        {
          "output_type": "stream",
          "text": [
            "Model: \"model_47\"\n",
            "_________________________________________________________________\n",
            "Layer (type)                 Output Shape              Param #   \n",
            "=================================================================\n",
            "input_70 (InputLayer)        [(None, 300, 300, 3)]     0         \n",
            "_________________________________________________________________\n",
            "inception_v3 (Functional)    (None, 8, 8, 2048)        21802784  \n",
            "_________________________________________________________________\n",
            "global_average_pooling2d_29  (None, 2048)              0         \n",
            "_________________________________________________________________\n",
            "dropout_24 (Dropout)         (None, 2048)              0         \n",
            "_________________________________________________________________\n",
            "dense (Dense)                (None, 4)                 8196      \n",
            "=================================================================\n",
            "Total params: 21,810,980\n",
            "Trainable params: 8,196\n",
            "Non-trainable params: 21,802,784\n",
            "_________________________________________________________________\n",
            "Epoch 1/20\n",
            "30/30 [==============================] - 15s 329ms/step - loss: 1.2519 - accuracy: 0.4655 - val_loss: 1.3092 - val_accuracy: 0.5372\n",
            "Epoch 2/20\n",
            "30/30 [==============================] - 8s 265ms/step - loss: 0.8579 - accuracy: 0.8265 - val_loss: 1.2416 - val_accuracy: 0.5868\n",
            "Epoch 3/20\n",
            "30/30 [==============================] - 8s 269ms/step - loss: 0.7790 - accuracy: 0.8877 - val_loss: 1.3138 - val_accuracy: 0.6033\n",
            "Epoch 4/20\n",
            "30/30 [==============================] - 8s 272ms/step - loss: 0.7673 - accuracy: 0.8876 - val_loss: 1.2623 - val_accuracy: 0.6116\n",
            "Epoch 5/20\n",
            "30/30 [==============================] - 8s 272ms/step - loss: 0.7104 - accuracy: 0.9248 - val_loss: 1.2212 - val_accuracy: 0.5868\n",
            "Epoch 6/20\n",
            "30/30 [==============================] - 8s 264ms/step - loss: 0.7428 - accuracy: 0.9083 - val_loss: 1.4663 - val_accuracy: 0.5868\n",
            "Epoch 7/20\n",
            "30/30 [==============================] - 8s 265ms/step - loss: 0.7125 - accuracy: 0.9347 - val_loss: 1.1551 - val_accuracy: 0.6529\n",
            "Epoch 8/20\n",
            "30/30 [==============================] - 8s 263ms/step - loss: 0.6938 - accuracy: 0.9257 - val_loss: 1.5097 - val_accuracy: 0.5785\n",
            "Epoch 9/20\n",
            "30/30 [==============================] - 8s 267ms/step - loss: 0.7031 - accuracy: 0.9348 - val_loss: 0.9219 - val_accuracy: 0.8182\n",
            "Epoch 10/20\n",
            "30/30 [==============================] - 8s 265ms/step - loss: 0.6511 - accuracy: 0.9658 - val_loss: 0.9393 - val_accuracy: 0.7686\n",
            "Epoch 11/20\n",
            "30/30 [==============================] - 8s 268ms/step - loss: 0.6679 - accuracy: 0.9678 - val_loss: 0.9680 - val_accuracy: 0.7769\n",
            "Epoch 12/20\n",
            "30/30 [==============================] - 8s 267ms/step - loss: 0.6550 - accuracy: 0.9654 - val_loss: 0.7740 - val_accuracy: 0.8926\n",
            "Epoch 13/20\n",
            "30/30 [==============================] - 8s 265ms/step - loss: 0.6593 - accuracy: 0.9644 - val_loss: 0.7873 - val_accuracy: 0.8926\n",
            "Epoch 14/20\n",
            "30/30 [==============================] - 8s 266ms/step - loss: 0.6524 - accuracy: 0.9646 - val_loss: 0.8553 - val_accuracy: 0.8017\n",
            "Epoch 15/20\n",
            "30/30 [==============================] - 8s 269ms/step - loss: 0.6355 - accuracy: 0.9810 - val_loss: 0.8747 - val_accuracy: 0.8264\n",
            "\n",
            "Epoch 00015: ReduceLROnPlateau reducing learning rate to 0.0019999999552965165.\n",
            "Epoch 16/20\n",
            "30/30 [==============================] - 8s 265ms/step - loss: 0.6554 - accuracy: 0.9613 - val_loss: 0.8742 - val_accuracy: 0.7934\n",
            "Epoch 17/20\n",
            "30/30 [==============================] - 8s 264ms/step - loss: 0.6528 - accuracy: 0.9650 - val_loss: 0.7855 - val_accuracy: 0.8595\n",
            "Training finished!\n"
          ],
          "name": "stdout"
        }
      ]
    },
    {
      "cell_type": "code",
      "metadata": {
        "colab": {
          "base_uri": "https://localhost:8080/",
          "height": 550
        },
        "id": "rfgOhwFQgmaU",
        "outputId": "5ce8ee65-e5e8-48ae-ffe5-a54d41a49967"
      },
      "source": [
        "probabilities = model.predict_generator(val_datagen, len(val_datagen))\r\n",
        "prediction_label = np.argmax(probabilities, axis = 1)\r\n",
        "val_labels = val_datagen.classes\r\n",
        "\r\n",
        "print('Class labels')\r\n",
        "print(val_datagen.class_indices)\r\n",
        "\r\n",
        "classes = val_datagen.class_indices.keys()\r\n",
        "print('\\n')\r\n",
        "#Plotting confusion matrix\r\n",
        "cm = confusion_matrix(prediction_label, val_labels)\r\n",
        "df_cm = pd.DataFrame(cm, index = [i for i in classes], columns = [i for i in classes])\r\n",
        "plt.figure(figsize = (10,7))\r\n",
        "plt.title('Validation Confusion Matrix')\r\n",
        "\r\n",
        "\r\n",
        "sns.heatmap(df_cm, annot=True)\r\n",
        "plt.xlabel('True Labels')\r\n",
        "plt.ylabel('Predicted Labels')\r\n",
        "\r\n",
        "acc = ((prediction_label == val_labels).sum())/len(val_labels) * 100\r\n",
        "\r\n",
        "print('Validation Accuracy of the model is %.2f%%' % (acc))"
      ],
      "execution_count": null,
      "outputs": [
        {
          "output_type": "stream",
          "text": [
            "Class labels\n",
            "{'blackspot': 0, 'canker': 1, 'greening': 2, 'healthy': 3}\n",
            "\n",
            "\n",
            "Validation Accuracy of the model is 87.60%\n"
          ],
          "name": "stdout"
        },
        {
          "output_type": "display_data",
          "data": {
            "image/png": "[encoded data removed]",
            "text/plain": [
              "<Figure size 720x504 with 2 Axes>"
            ]
          },
          "metadata": {
            "tags": [],
            "needs_background": "light"
          }
        }
      ]
    },
    {
      "cell_type": "code",
      "metadata": {
        "colab": {
          "base_uri": "https://localhost:8080/"
        },
        "id": "MVaQq2O7jRW8",
        "outputId": "362b628b-acd2-453c-bba1-1522fc5d2478"
      },
      "source": [
        "model.summary()"
      ],
      "execution_count": null,
      "outputs": [
        {
          "output_type": "stream",
          "text": [
            "Model: \"model_47\"\n",
            "_________________________________________________________________\n",
            "Layer (type)                 Output Shape              Param #   \n",
            "=================================================================\n",
            "input_70 (InputLayer)        [(None, 300, 300, 3)]     0         \n",
            "_________________________________________________________________\n",
            "inception_v3 (Functional)    (None, 8, 8, 2048)        21802784  \n",
            "_________________________________________________________________\n",
            "global_average_pooling2d_29  (None, 2048)              0         \n",
            "_________________________________________________________________\n",
            "dropout_24 (Dropout)         (None, 2048)              0         \n",
            "_________________________________________________________________\n",
            "dense (Dense)                (None, 4)                 8196      \n",
            "=================================================================\n",
            "Total params: 21,810,980\n",
            "Trainable params: 8,196\n",
            "Non-trainable params: 21,802,784\n",
            "_________________________________________________________________\n"
          ],
          "name": "stdout"
        }
      ]
    },
    {
      "cell_type": "code",
      "metadata": {
        "colab": {
          "base_uri": "https://localhost:8080/"
        },
        "id": "awHPS5Lm51oY",
        "outputId": "5ab900b4-fd3e-4811-e2d5-6e124146179c"
      },
      "source": [
        "epochs=20\r\n",
        "\r\n",
        "model = repurpose_cassava_Xception(\"/content/drive/My Drive/citrus_green/models/xception 2fold.h5\")\r\n",
        "model.summary()\r\n",
        "model_name = \"xception_citrus.h5\"\r\n",
        "filepath = f\"/content/drive/My Drive/citrus_green/models/{model_name}\"\r\n",
        "callbacks = [ReduceLROnPlateau(monitor='val_loss', patience=3, verbose=1, factor=0.2),\r\n",
        "             EarlyStopping(monitor='val_loss', patience=5),\r\n",
        "             ModelCheckpoint(filepath=filepath, monitor='val_accuracy', save_best_only=True, mode='max')]\r\n",
        "\r\n",
        "history = model.fit_generator(generator = train_datagen, epochs=epochs, steps_per_epoch= len(train_datagen),\r\n",
        "                              validation_data=val_datagen, validation_steps=len(val_datagen),\r\n",
        "                              callbacks=callbacks)\r\n",
        "print(\"Training finished!\")"
      ],
      "execution_count": null,
      "outputs": [
        {
          "output_type": "stream",
          "text": [
            "Model: \"model_45\"\n",
            "_________________________________________________________________\n",
            "Layer (type)                 Output Shape              Param #   \n",
            "=================================================================\n",
            "input_68 (InputLayer)        [(None, 300, 300, 3)]     0         \n",
            "_________________________________________________________________\n",
            "xception (Functional)        (None, 10, 10, 2048)      20861480  \n",
            "_________________________________________________________________\n",
            "global_average_pooling2d_28  (None, 2048)              0         \n",
            "_________________________________________________________________\n",
            "above_dense (Dropout)        (None, 2048)              0         \n",
            "_________________________________________________________________\n",
            "dense (Dense)                (None, 4)                 8196      \n",
            "=================================================================\n",
            "Total params: 20,869,676\n",
            "Trainable params: 8,196\n",
            "Non-trainable params: 20,861,480\n",
            "_________________________________________________________________\n",
            "Epoch 1/20\n",
            "30/30 [==============================] - 23s 642ms/step - loss: 1.3260 - accuracy: 0.3644 - val_loss: 1.1070 - val_accuracy: 0.6281\n",
            "Epoch 2/20\n",
            "30/30 [==============================] - 20s 646ms/step - loss: 0.9338 - accuracy: 0.7625 - val_loss: 0.9728 - val_accuracy: 0.7851\n",
            "Epoch 3/20\n",
            "30/30 [==============================] - 19s 620ms/step - loss: 0.7779 - accuracy: 0.8731 - val_loss: 0.9194 - val_accuracy: 0.8182\n",
            "Epoch 4/20\n",
            "30/30 [==============================] - 18s 612ms/step - loss: 0.7345 - accuracy: 0.9195 - val_loss: 0.8793 - val_accuracy: 0.8347\n",
            "Epoch 5/20\n",
            "30/30 [==============================] - 19s 622ms/step - loss: 0.6816 - accuracy: 0.9501 - val_loss: 0.8488 - val_accuracy: 0.8595\n",
            "Epoch 6/20\n",
            "30/30 [==============================] - 19s 630ms/step - loss: 0.6815 - accuracy: 0.9449 - val_loss: 0.8146 - val_accuracy: 0.8678\n",
            "Epoch 7/20\n",
            "30/30 [==============================] - 19s 620ms/step - loss: 0.6674 - accuracy: 0.9568 - val_loss: 0.7708 - val_accuracy: 0.9091\n",
            "Epoch 8/20\n",
            "30/30 [==============================] - 19s 629ms/step - loss: 0.6759 - accuracy: 0.9460 - val_loss: 0.7612 - val_accuracy: 0.8926\n",
            "Epoch 9/20\n",
            "30/30 [==============================] - 19s 627ms/step - loss: 0.6813 - accuracy: 0.9573 - val_loss: 0.8014 - val_accuracy: 0.8264\n",
            "Epoch 10/20\n",
            "30/30 [==============================] - 19s 644ms/step - loss: 0.6513 - accuracy: 0.9710 - val_loss: 0.7955 - val_accuracy: 0.8430\n",
            "Epoch 11/20\n",
            "30/30 [==============================] - 19s 622ms/step - loss: 0.6535 - accuracy: 0.9719 - val_loss: 0.7589 - val_accuracy: 0.9091\n",
            "Epoch 12/20\n",
            "30/30 [==============================] - 19s 620ms/step - loss: 0.6563 - accuracy: 0.9799 - val_loss: 0.8302 - val_accuracy: 0.8512\n",
            "Epoch 13/20\n",
            "30/30 [==============================] - 19s 619ms/step - loss: 0.6540 - accuracy: 0.9647 - val_loss: 0.7580 - val_accuracy: 0.8843\n",
            "Epoch 14/20\n",
            "30/30 [==============================] - 19s 619ms/step - loss: 0.6334 - accuracy: 0.9742 - val_loss: 0.7553 - val_accuracy: 0.9008\n",
            "Epoch 15/20\n",
            "30/30 [==============================] - 19s 620ms/step - loss: 0.6486 - accuracy: 0.9657 - val_loss: 0.8456 - val_accuracy: 0.8264\n",
            "Epoch 16/20\n",
            "30/30 [==============================] - 19s 622ms/step - loss: 0.6528 - accuracy: 0.9551 - val_loss: 0.7603 - val_accuracy: 0.9091\n",
            "Epoch 17/20\n",
            "30/30 [==============================] - 19s 621ms/step - loss: 0.6338 - accuracy: 0.9684 - val_loss: 0.7824 - val_accuracy: 0.8843\n",
            "\n",
            "Epoch 00017: ReduceLROnPlateau reducing learning rate to 0.0019999999552965165.\n",
            "Epoch 18/20\n",
            "30/30 [==============================] - 19s 621ms/step - loss: 0.6330 - accuracy: 0.9851 - val_loss: 0.7756 - val_accuracy: 0.8760\n",
            "Epoch 19/20\n",
            "30/30 [==============================] - 19s 620ms/step - loss: 0.6334 - accuracy: 0.9780 - val_loss: 0.7557 - val_accuracy: 0.8926\n",
            "Training finished!\n"
          ],
          "name": "stdout"
        }
      ]
    },
    {
      "cell_type": "code",
      "metadata": {
        "colab": {
          "base_uri": "https://localhost:8080/",
          "height": 550
        },
        "id": "DA-r_MKmhRqA",
        "outputId": "bcf4feb2-ef49-4b5f-a5d0-c25ff248635c"
      },
      "source": [
        "probabilities = model.predict_generator(val_datagen, len(val_datagen))\r\n",
        "prediction_label = np.argmax(probabilities, axis = 1)\r\n",
        "val_labels = val_datagen.classes\r\n",
        "\r\n",
        "print('Class labels')\r\n",
        "print(val_datagen.class_indices)\r\n",
        "\r\n",
        "classes = val_datagen.class_indices.keys()\r\n",
        "print('\\n')\r\n",
        "#Plotting confusion matrix\r\n",
        "cm = confusion_matrix(prediction_label, val_labels)\r\n",
        "df_cm = pd.DataFrame(cm, index = [i for i in classes], columns = [i for i in classes])\r\n",
        "plt.figure(figsize = (10,7))\r\n",
        "plt.title('Validation Confusion Matrix')\r\n",
        "\r\n",
        "\r\n",
        "sns.heatmap(df_cm, annot=True)\r\n",
        "plt.xlabel('True Labels')\r\n",
        "plt.ylabel('Predicted Labels')\r\n",
        "\r\n",
        "acc = ((prediction_label == val_labels).sum())/len(val_labels) * 100\r\n",
        "\r\n",
        "print('Validation Accuracy of the model is %.2f%%' % (acc))"
      ],
      "execution_count": null,
      "outputs": [
        {
          "output_type": "stream",
          "text": [
            "Class labels\n",
            "{'blackspot': 0, 'canker': 1, 'greening': 2, 'healthy': 3}\n",
            "\n",
            "\n",
            "Validation Accuracy of the model is 89.26%\n"
          ],
          "name": "stdout"
        },
        {
          "output_type": "display_data",
          "data": {
            "image/png": "[encoded data removed]",
            "text/plain": [
              "<Figure size 720x504 with 2 Axes>"
            ]
          },
          "metadata": {
            "tags": [],
            "needs_background": "light"
          }
        }
      ]
    },
    {
      "cell_type": "code",
      "metadata": {
        "id": "zB6hCJd8Tcpw"
      },
      "source": [
        "#END "
      ],
      "execution_count": null,
      "outputs": []
    }
  ]
}